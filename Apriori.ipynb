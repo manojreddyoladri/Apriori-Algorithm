{
 "cells": [
  {
   "cell_type": "code",
   "execution_count": 1,
   "id": "00eb88c6",
   "metadata": {
    "scrolled": true
   },
   "outputs": [],
   "source": [
    "import arff\n",
    "with open('vote.arff', 'r') as f:\n",
    "    data = arff.load(f)"
   ]
  },
  {
   "cell_type": "code",
   "execution_count": 2,
   "id": "18cecc85",
   "metadata": {
    "scrolled": false
   },
   "outputs": [],
   "source": [
    "#load data into a list\n",
    "datalist=[]\n",
    "for i in data['data']:\n",
    "    list=[]\n",
    "    for j in range(len(i)):\n",
    "        list.append(data['attributes'][j][0] + \"=\" + i[j])\n",
    "    datalist.append(list)"
   ]
  },
  {
   "cell_type": "code",
   "execution_count": 3,
   "id": "06b1d92c",
   "metadata": {},
   "outputs": [],
   "source": [
    "min_supp = 0.5\n",
    "min_conf = 1.0"
   ]
  },
  {
   "cell_type": "code",
   "execution_count": 4,
   "id": "314f0da3",
   "metadata": {
    "scrolled": false
   },
   "outputs": [],
   "source": [
    "def apriori(min_supp, min_conf):\n",
    "    # initialize candidate itemsets of size 1\n",
    "    C = []\n",
    "    for transaction in datalist:\n",
    "        for item in transaction:\n",
    "            if [item] not in C:\n",
    "                C.append([item])\n",
    "\n",
    "    k=1\n",
    "    allFrequent = []\n",
    "    allCounts = {}\n",
    "    \n",
    "    print('Apriori\\n=======\\n\\nGenerated sets of large itemsets:\\n')\n",
    "    \n",
    "    while(True):\n",
    "        frequent = []\n",
    "        #get counts of each candidate itemset\n",
    "        counts = {}\n",
    "        for transaction in datalist:\n",
    "            for itemset in C:\n",
    "                if set(itemset).issubset(set(transaction)):\n",
    "                    counts[tuple(itemset)] = counts.get(tuple(itemset), 0) + 1\n",
    "\n",
    "        #eliminate the candidates without min_supp to get the frequent itemsets\n",
    "        for itemset, count in counts.items():\n",
    "            if count >= min_supp*len(datalist):\n",
    "                allCounts[tuple(itemset)] = counts[tuple(itemset)]\n",
    "                frequent.append(itemset)\n",
    "                allFrequent.append(itemset)\n",
    "        if not frequent:\n",
    "            break #break out when the frequent itemlist is empty\n",
    "        #generate new candidates from previous frequent itemsets\n",
    "        C = []\n",
    "        for i in range(len(frequent)):\n",
    "            for j in range(i+1, len(frequent)):\n",
    "                #only add new candidates if they include the frequent itemsets\n",
    "                if frequent[i][:-1] == frequent[j][:-1]:\n",
    "                    new_itemset = frequent[i] + (frequent[j][-1],)\n",
    "                    C.append(new_itemset)\n",
    "        print('Large itemsets L('+str(k)+'): ' + str(len(frequent)))\n",
    "        print(frequent)\n",
    "        print()\n",
    "        k+=1\n",
    "        \n",
    "    return allFrequent, allCounts\n"
   ]
  },
  {
   "cell_type": "code",
   "execution_count": 5,
   "id": "d9df7664",
   "metadata": {
    "scrolled": true
   },
   "outputs": [],
   "source": [
    "def associations(allFrequent, allCounts):\n",
    "    #get counts for all association combinations\n",
    "    rule_num = 0\n",
    "    for freq_itemset1 in allFrequent:\n",
    "        for freq_itemset2 in allFrequent:\n",
    "            combo = freq_itemset1 + freq_itemset2\n",
    "            if combo == tuple([x for i, x in enumerate(combo) if x not in combo[:i]]): #ignore redundant combinations\n",
    "                assoc = combo\n",
    "                assoc_counts = 0\n",
    "                for transaction in datalist:\n",
    "                    if set(assoc).issubset(set(transaction)):\n",
    "                        assoc_counts += 1\n",
    "\n",
    "                #eliminate resulting associations using min_conf\n",
    "                if assoc_counts / allCounts[freq_itemset1] >= min_conf:\n",
    "                    rule_num+=1\n",
    "                    print('Rule ' + str(rule_num) + ': '\n",
    "                        + ' '.join(freq_itemset1) + ' ' + str(allCounts[freq_itemset1]) + ' ==> '\n",
    "                        + ' '.join(freq_itemset2) + ' ' + str(allCounts[freq_itemset1])\n",
    "                        + ' <conf: ' + str(assoc_counts/allCounts[freq_itemset1])\n",
    "                        + '> <supp: ' + str(allCounts[freq_itemset1]/len(datalist)) + '>')\n"
   ]
  },
  {
   "cell_type": "code",
   "execution_count": 6,
   "id": "fad39849",
   "metadata": {
    "scrolled": false
   },
   "outputs": [
    {
     "name": "stdout",
     "output_type": "stream",
     "text": [
      "Apriori\n",
      "=======\n",
      "\n",
      "Generated sets of large itemsets:\n",
      "\n",
      "Large itemsets L(1): 17\n",
      "[('handicapped-infants=n',), ('water-project-cost-sharing=y',), ('el-salvador-aid=y',), ('religious-groups-in-schools=y',), ('immigration=y',), ('synfuels-corporation-cutback=n',), ('superfund-right-to-sue=y',), ('crime=y',), ('duty-free-exports=n',), ('export-administration-act-south-africa=y',), ('adoption-of-the-budget-resolution=y',), ('physician-fee-freeze=n',), ('education-spending=n',), ('Class=democrat',), ('anti-satellite-test-ban=y',), ('aid-to-nicaraguan-contras=y',), ('mx-missile=y',)]\n",
      "\n",
      "Large itemsets L(2): 21\n",
      "[('religious-groups-in-schools=y', 'crime=y'), ('religious-groups-in-schools=y', 'export-administration-act-south-africa=y'), ('synfuels-corporation-cutback=n', 'export-administration-act-south-africa=y'), ('adoption-of-the-budget-resolution=y', 'physician-fee-freeze=n'), ('adoption-of-the-budget-resolution=y', 'education-spending=n'), ('adoption-of-the-budget-resolution=y', 'Class=democrat'), ('physician-fee-freeze=n', 'education-spending=n'), ('physician-fee-freeze=n', 'Class=democrat'), ('education-spending=n', 'Class=democrat'), ('export-administration-act-south-africa=y', 'adoption-of-the-budget-resolution=y'), ('export-administration-act-south-africa=y', 'physician-fee-freeze=n'), ('export-administration-act-south-africa=y', 'education-spending=n'), ('export-administration-act-south-africa=y', 'Class=democrat'), ('export-administration-act-south-africa=y', 'anti-satellite-test-ban=y'), ('export-administration-act-south-africa=y', 'aid-to-nicaraguan-contras=y'), ('export-administration-act-south-africa=y', 'mx-missile=y'), ('adoption-of-the-budget-resolution=y', 'aid-to-nicaraguan-contras=y'), ('physician-fee-freeze=n', 'aid-to-nicaraguan-contras=y'), ('education-spending=n', 'aid-to-nicaraguan-contras=y'), ('Class=democrat', 'aid-to-nicaraguan-contras=y'), ('anti-satellite-test-ban=y', 'aid-to-nicaraguan-contras=y')]\n",
      "\n",
      "Large itemsets L(3): 13\n",
      "[('adoption-of-the-budget-resolution=y', 'physician-fee-freeze=n', 'Class=democrat'), ('physician-fee-freeze=n', 'education-spending=n', 'Class=democrat'), ('export-administration-act-south-africa=y', 'adoption-of-the-budget-resolution=y', 'physician-fee-freeze=n'), ('export-administration-act-south-africa=y', 'adoption-of-the-budget-resolution=y', 'education-spending=n'), ('export-administration-act-south-africa=y', 'adoption-of-the-budget-resolution=y', 'Class=democrat'), ('export-administration-act-south-africa=y', 'physician-fee-freeze=n', 'education-spending=n'), ('export-administration-act-south-africa=y', 'physician-fee-freeze=n', 'Class=democrat'), ('export-administration-act-south-africa=y', 'education-spending=n', 'Class=democrat'), ('physician-fee-freeze=n', 'Class=democrat', 'aid-to-nicaraguan-contras=y'), ('export-administration-act-south-africa=y', 'adoption-of-the-budget-resolution=y', 'aid-to-nicaraguan-contras=y'), ('export-administration-act-south-africa=y', 'physician-fee-freeze=n', 'aid-to-nicaraguan-contras=y'), ('export-administration-act-south-africa=y', 'Class=democrat', 'aid-to-nicaraguan-contras=y'), ('export-administration-act-south-africa=y', 'anti-satellite-test-ban=y', 'aid-to-nicaraguan-contras=y')]\n",
      "\n",
      "Large itemsets L(4): 2\n",
      "[('export-administration-act-south-africa=y', 'adoption-of-the-budget-resolution=y', 'physician-fee-freeze=n', 'Class=democrat'), ('export-administration-act-south-africa=y', 'physician-fee-freeze=n', 'education-spending=n', 'Class=democrat')]\n",
      "\n",
      "Rule 1: adoption-of-the-budget-resolution=y aid-to-nicaraguan-contras=y 226 ==> export-administration-act-south-africa=y 226 <conf: 1.0> <supp: 0.5195402298850574>\n",
      "Rule 2: anti-satellite-test-ban=y aid-to-nicaraguan-contras=y 224 ==> export-administration-act-south-africa=y 224 <conf: 1.0> <supp: 0.5149425287356322>\n"
     ]
    }
   ],
   "source": [
    "allFrequent, allCounts = apriori(min_supp, min_conf)\n",
    "associations(allFrequent, allCounts)"
   ]
  },
  {
   "cell_type": "code",
   "execution_count": null,
   "id": "9c8d6e42",
   "metadata": {},
   "outputs": [],
   "source": []
  }
 ],
 "metadata": {
  "kernelspec": {
   "display_name": "Python 3 (ipykernel)",
   "language": "python",
   "name": "python3"
  },
  "language_info": {
   "codemirror_mode": {
    "name": "ipython",
    "version": 3
   },
   "file_extension": ".py",
   "mimetype": "text/x-python",
   "name": "python",
   "nbconvert_exporter": "python",
   "pygments_lexer": "ipython3",
   "version": "3.9.12"
  }
 },
 "nbformat": 4,
 "nbformat_minor": 5
}
